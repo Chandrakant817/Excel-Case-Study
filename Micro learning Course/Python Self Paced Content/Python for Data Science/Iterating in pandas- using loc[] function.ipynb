{
 "cells": [
  {
   "cell_type": "markdown",
   "metadata": {},
   "source": [
    "# Iterating in pandas: using loc[] function"
   ]
  },
  {
   "cell_type": "code",
   "execution_count": 1,
   "metadata": {},
   "outputs": [
    {
     "name": "stdout",
     "output_type": "stream",
     "text": [
      "Given Dataframe :\n",
      "         Name  Age    Stream  Percentage\n",
      "0      Ankit   21      Math          88\n",
      "1       Amit   19  Commerce          92\n",
      "2  Aishwarya   20      Arts          95\n",
      "3   Priyanka   18   Biology          70\n"
     ]
    }
   ],
   "source": [
    "# import pandas package as pd\n",
    "import pandas as pd\n",
    "  \n",
    "# Define a dictionary containing students data\n",
    "data = {'Name': ['Ankit', 'Amit', 'Aishwarya', 'Priyanka'],\n",
    "                'Age': [21, 19, 20, 18],\n",
    "                'Stream': ['Math', 'Commerce', 'Arts', 'Biology'],\n",
    "                'Percentage': [88, 92, 95, 70]}\n",
    "  \n",
    "# Convert the dictionary into DataFrame\n",
    "df = pd.DataFrame(data, columns = ['Name', 'Age', 'Stream', 'Percentage'])\n",
    "  \n",
    "print(\"Given Dataframe :\\n\", df)\n",
    "  \n"
   ]
  },
  {
   "cell_type": "code",
   "execution_count": 3,
   "metadata": {},
   "outputs": [
    {
     "name": "stdout",
     "output_type": "stream",
     "text": [
      "\n",
      "Iterating over rows using loc function :\n",
      "\n",
      "Ankit 21\n",
      "Amit 19\n",
      "Aishwarya 20\n",
      "Priyanka 18\n"
     ]
    }
   ],
   "source": [
    "print(\"\\nIterating over rows using loc function :\\n\")\n",
    "  \n",
    "# iterate through each row and select \n",
    "# 'Name' and 'Age' column respectively.\n",
    "for i in range(len(df)) :\n",
    "    print(df.loc[i, \"Name\"], df.loc[i, \"Age\"])"
   ]
  },
  {
   "cell_type": "code",
   "execution_count": 4,
   "metadata": {},
   "outputs": [
    {
     "data": {
      "text/plain": [
       "('Ankit', 21, 'Math', 88)"
      ]
     },
     "execution_count": 4,
     "metadata": {},
     "output_type": "execute_result"
    }
   ],
   "source": [
    "df.loc[0, \"Name\"], df.loc[0, \"Age\"], df.loc[0, \"Stream\"], df.loc[0, \"Percentage\"]"
   ]
  },
  {
   "cell_type": "code",
   "execution_count": null,
   "metadata": {},
   "outputs": [],
   "source": []
  }
 ],
 "metadata": {
  "kernelspec": {
   "display_name": "Python 3",
   "language": "python",
   "name": "python3"
  },
  "language_info": {
   "codemirror_mode": {
    "name": "ipython",
    "version": 3
   },
   "file_extension": ".py",
   "mimetype": "text/x-python",
   "name": "python",
   "nbconvert_exporter": "python",
   "pygments_lexer": "ipython3",
   "version": "3.7.7"
  }
 },
 "nbformat": 4,
 "nbformat_minor": 4
}
