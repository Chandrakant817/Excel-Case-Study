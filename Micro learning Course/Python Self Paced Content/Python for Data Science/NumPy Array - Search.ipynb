{
 "cells": [
  {
   "cell_type": "markdown",
   "metadata": {},
   "source": [
    "# NumPy Array - Search"
   ]
  },
  {
   "cell_type": "markdown",
   "metadata": {},
   "source": [
    "## Searching Arrays\n",
    "\n",
    "### You can search an array for a certain value, and return the indexes that get a match.\n",
    "\n",
    "### To search an array, use the where() method."
   ]
  },
  {
   "cell_type": "code",
   "execution_count": 1,
   "metadata": {},
   "outputs": [
    {
     "name": "stdout",
     "output_type": "stream",
     "text": [
      "(array([3, 5, 6]),)\n"
     ]
    }
   ],
   "source": [
    "import numpy as np\n",
    "\n",
    "#Find the indexes where the value is 4:\n",
    "arr = np.array([1, 2, 3, 4, 5, 4, 4])\n",
    "\n",
    "x = np.where(arr == 4)\n",
    "\n",
    "print(x)"
   ]
  },
  {
   "cell_type": "code",
   "execution_count": 2,
   "metadata": {},
   "outputs": [
    {
     "name": "stdout",
     "output_type": "stream",
     "text": [
      "(array([1, 3, 5, 7]),)\n"
     ]
    }
   ],
   "source": [
    "#Find the indexes where the values are even:\n",
    "\n",
    "import numpy as np\n",
    "\n",
    "arr = np.array([1, 2, 3, 4, 5, 6, 7, 8])\n",
    "\n",
    "x = np.where(arr%2 == 0)\n",
    "\n",
    "print(x)\n"
   ]
  },
  {
   "cell_type": "code",
   "execution_count": 3,
   "metadata": {},
   "outputs": [
    {
     "name": "stdout",
     "output_type": "stream",
     "text": [
      "(array([0, 2, 4, 6]),)\n"
     ]
    }
   ],
   "source": [
    "#Find the indexes where the values are odd:\n",
    "\n",
    "import numpy as np\n",
    "\n",
    "arr = np.array([1, 2, 3, 4, 5, 6, 7, 8])\n",
    "\n",
    "x = np.where(arr%2 == 1)\n",
    "\n",
    "print(x)"
   ]
  },
  {
   "cell_type": "code",
   "execution_count": 4,
   "metadata": {},
   "outputs": [
    {
     "name": "stdout",
     "output_type": "stream",
     "text": [
      "1\n"
     ]
    }
   ],
   "source": [
    "#Find the indexes where the value 7 should be inserted:\n",
    "\n",
    "import numpy as np\n",
    "\n",
    "arr = np.array([6, 7, 8, 9])\n",
    "\n",
    "x = np.searchsorted(arr, 7)\n",
    "\n",
    "print(x)"
   ]
  },
  {
   "cell_type": "code",
   "execution_count": null,
   "metadata": {},
   "outputs": [],
   "source": []
  }
 ],
 "metadata": {
  "kernelspec": {
   "display_name": "Python 3",
   "language": "python",
   "name": "python3"
  },
  "language_info": {
   "codemirror_mode": {
    "name": "ipython",
    "version": 3
   },
   "file_extension": ".py",
   "mimetype": "text/x-python",
   "name": "python",
   "nbconvert_exporter": "python",
   "pygments_lexer": "ipython3",
   "version": "3.7.7"
  }
 },
 "nbformat": 4,
 "nbformat_minor": 4
}
