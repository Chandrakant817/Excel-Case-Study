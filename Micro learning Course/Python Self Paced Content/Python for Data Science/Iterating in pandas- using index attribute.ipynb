{
 "cells": [
  {
   "cell_type": "markdown",
   "metadata": {},
   "source": [
    "# Iterating in pandas: using index attribute"
   ]
  },
  {
   "cell_type": "code",
   "execution_count": 1,
   "metadata": {},
   "outputs": [
    {
     "name": "stdout",
     "output_type": "stream",
     "text": [
      "Given Dataframe :\n",
      "         Name  Age    Stream  Percentage\n",
      "0      Ankit   21      Math          88\n",
      "1       Amit   19  Commerce          92\n",
      "2  Aishwarya   20      Arts          95\n",
      "3   Priyanka   18   Biology          70\n"
     ]
    }
   ],
   "source": [
    "# import pandas package as pd\n",
    "import pandas as pd\n",
    "  \n",
    "# Define a dictionary containing students data\n",
    "data = {'Name': ['Ankit', 'Amit', 'Aishwarya', 'Priyanka'],\n",
    "                'Age': [21, 19, 20, 18],\n",
    "                'Stream': ['Math', 'Commerce', 'Arts', 'Biology'],\n",
    "                'Percentage': [88, 92, 95, 70]}\n",
    "  \n",
    "# Convert the dictionary into DataFrame\n",
    "df = pd.DataFrame(data, columns = ['Name', 'Age', 'Stream', 'Percentage'])\n",
    "  \n",
    "print(\"Given Dataframe :\\n\", df)\n",
    "  \n"
   ]
  },
  {
   "cell_type": "code",
   "execution_count": 2,
   "metadata": {},
   "outputs": [
    {
     "name": "stdout",
     "output_type": "stream",
     "text": [
      "\n",
      "Iterating over rows using index attribute :\n",
      "\n",
      "0 Ankit Math\n",
      "1 Amit Commerce\n",
      "2 Aishwarya Arts\n",
      "3 Priyanka Biology\n"
     ]
    }
   ],
   "source": [
    "print(\"\\nIterating over rows using index attribute :\\n\")\n",
    "  \n",
    "# iterate through each row and select \n",
    "# 'Name' and 'Stream' column respectively.\n",
    "for ind in df.index:\n",
    "     print(ind, df['Name'][ind], df['Stream'][ind])"
   ]
  },
  {
   "cell_type": "code",
   "execution_count": 4,
   "metadata": {},
   "outputs": [
    {
     "data": {
      "text/plain": [
       "('Ankit', 21, 'Math', 88)"
      ]
     },
     "execution_count": 4,
     "metadata": {},
     "output_type": "execute_result"
    }
   ],
   "source": [
    "df['Name'][0], df['Age'][0], df['Stream'][0], df['Percentage'][0]"
   ]
  },
  {
   "cell_type": "code",
   "execution_count": null,
   "metadata": {},
   "outputs": [],
   "source": []
  }
 ],
 "metadata": {
  "kernelspec": {
   "display_name": "Python 3",
   "language": "python",
   "name": "python3"
  },
  "language_info": {
   "codemirror_mode": {
    "name": "ipython",
    "version": 3
   },
   "file_extension": ".py",
   "mimetype": "text/x-python",
   "name": "python",
   "nbconvert_exporter": "python",
   "pygments_lexer": "ipython3",
   "version": "3.7.7"
  }
 },
 "nbformat": 4,
 "nbformat_minor": 4
}
