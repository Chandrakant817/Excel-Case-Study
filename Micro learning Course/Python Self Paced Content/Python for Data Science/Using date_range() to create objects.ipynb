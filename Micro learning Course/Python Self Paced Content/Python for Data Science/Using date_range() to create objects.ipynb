{
 "cells": [
  {
   "cell_type": "markdown",
   "metadata": {},
   "source": [
    "# Using date_range() to create objects"
   ]
  },
  {
   "cell_type": "markdown",
   "metadata": {},
   "source": [
    "### pandas.date_range() is one of the general functions in Pandas which is used to return a fixed frequency DatetimeIndex.\n",
    "\n",
    "#### Syntax: pandas.date_range(start=None, end=None, periods=None, freq=None, tz=None, normalize=False, name=None, closed=None, **kwargs)\n",
    "\n",
    "#### Parameters:\n",
    "#### start : Left bound for generating dates.\n",
    "#### end : Right bound for generating dates.\n",
    "#### periods : Number of periods to generate.\n",
    "#### freq : Frequency strings can have multiples, e.g. ‘5H’. See here for a list of frequency aliases.\n",
    "#### tz : Time zone name for returning localized DatetimeIndex. By default, the resulting DatetimeIndex is timezone-naive.\n",
    "#### normalize : Normalize start/end dates to midnight before generating date range.\n",
    "#### name : Name of the resulting DatetimeIndex.\n",
    "#### closed : Make the interval closed with respect to the given frequency to the ‘left’, ‘right’, or both sides (None, the default).\n",
    "\n",
    "#### Returns: DatetimeIndex\n"
   ]
  },
  {
   "cell_type": "code",
   "execution_count": 1,
   "metadata": {},
   "outputs": [
    {
     "name": "stdout",
     "output_type": "stream",
     "text": [
      "2018-01-01 00:00:00\n",
      "2018-01-01 05:00:00\n",
      "2018-01-01 10:00:00\n",
      "2018-01-01 15:00:00\n",
      "2018-01-01 20:00:00\n",
      "2018-01-02 01:00:00\n",
      "2018-01-02 06:00:00\n",
      "2018-01-02 11:00:00\n",
      "2018-01-02 16:00:00\n",
      "2018-01-02 21:00:00\n",
      "2018-01-03 02:00:00\n",
      "2018-01-03 07:00:00\n",
      "2018-01-03 12:00:00\n",
      "2018-01-03 17:00:00\n",
      "2018-01-03 22:00:00\n",
      "2018-01-04 03:00:00\n",
      "2018-01-04 08:00:00\n",
      "2018-01-04 13:00:00\n",
      "2018-01-04 18:00:00\n",
      "2018-01-04 23:00:00\n"
     ]
    }
   ],
   "source": [
    "# importing pandas as pd\n",
    "import pandas as pd\n",
    "  \n",
    "per1 = pd.date_range(start ='1-1-2018', end ='1-05-2018', freq ='5H')\n",
    "  \n",
    "for val in per1:\n",
    "    print(val)"
   ]
  },
  {
   "cell_type": "code",
   "execution_count": 3,
   "metadata": {},
   "outputs": [
    {
     "name": "stdout",
     "output_type": "stream",
     "text": [
      "DatetimeIndex(['2018-01-31', '2018-02-28', '2018-03-31', '2018-04-30',\n",
      "               '2018-05-31', '2018-06-30', '2018-07-31'],\n",
      "              dtype='datetime64[ns]', freq='M') \n",
      "\n",
      " DatetimeIndex(['2018-01-31', '2018-04-30', '2018-07-31', '2018-10-31'], dtype='datetime64[ns]', freq='3M')\n"
     ]
    }
   ],
   "source": [
    "# importing pandas as pd\n",
    "import pandas as pd\n",
    "  \n",
    "dRan1 = pd.date_range(start ='1-1-2018',\n",
    "           end ='8-01-2018', freq ='M')\n",
    "  \n",
    "dRan2 = pd.date_range(start ='1-1-2018', \n",
    "         end ='11-01-2018', freq ='3M')\n",
    "  \n",
    "print(dRan1, '\\n\\n', dRan2)"
   ]
  },
  {
   "cell_type": "code",
   "execution_count": 5,
   "metadata": {},
   "outputs": [
    {
     "name": "stdout",
     "output_type": "stream",
     "text": [
      "DatetimeIndex(['2018-01-01', '2018-01-02', '2018-01-03', '2018-01-04',\n",
      "               '2018-01-05', '2018-01-06', '2018-01-07', '2018-01-08',\n",
      "               '2018-01-09', '2018-01-10', '2018-01-11', '2018-01-12',\n",
      "               '2018-01-13'],\n",
      "              dtype='datetime64[ns]', freq='D') \n",
      "\n",
      " DatetimeIndex(['2017-12-20', '2017-12-21', '2017-12-22', '2017-12-23',\n",
      "               '2017-12-24', '2017-12-25', '2017-12-26', '2017-12-27',\n",
      "               '2017-12-28', '2017-12-29', '2017-12-30', '2017-12-31',\n",
      "               '2018-01-01'],\n",
      "              dtype='datetime64[ns]', freq='D') \n",
      "\n",
      " DatetimeIndex(['2017-01-03 00:00:00', '2017-02-02 06:00:00',\n",
      "               '2017-03-04 12:00:00', '2017-04-03 18:00:00',\n",
      "               '2017-05-04 00:00:00', '2017-06-03 06:00:00',\n",
      "               '2017-07-03 12:00:00', '2017-08-02 18:00:00',\n",
      "               '2017-09-02 00:00:00', '2017-10-02 06:00:00',\n",
      "               '2017-11-01 12:00:00', '2017-12-01 18:00:00',\n",
      "               '2018-01-01 00:00:00'],\n",
      "              dtype='datetime64[ns]', freq=None)\n"
     ]
    }
   ],
   "source": [
    "# importing pandas as pd\n",
    "import pandas as pd\n",
    "  \n",
    "# Specify start and periods, the number of periods (days).\n",
    "dRan1 = pd.date_range(start ='1-1-2018', periods = 13)\n",
    "  \n",
    "# Specify end and periods, the number of periods (days).\n",
    "dRan2 = pd.date_range(end ='1-1-2018', periods = 13)\n",
    "  \n",
    "# Specify start, end, and periods; the frequency \n",
    "# is generated automatically (linearly spaced).\n",
    "dRan3 = pd.date_range(start ='01-03-2017', \n",
    "            end ='1-1-2018', periods = 13)\n",
    "  \n",
    "print(dRan1, \"\\n\\n\", dRan2, '\\n\\n', dRan3)"
   ]
  },
  {
   "cell_type": "code",
   "execution_count": null,
   "metadata": {},
   "outputs": [],
   "source": []
  }
 ],
 "metadata": {
  "kernelspec": {
   "display_name": "Python 3",
   "language": "python",
   "name": "python3"
  },
  "language_info": {
   "codemirror_mode": {
    "name": "ipython",
    "version": 3
   },
   "file_extension": ".py",
   "mimetype": "text/x-python",
   "name": "python",
   "nbconvert_exporter": "python",
   "pygments_lexer": "ipython3",
   "version": "3.7.7"
  }
 },
 "nbformat": 4,
 "nbformat_minor": 4
}
