{
 "cells": [
  {
   "cell_type": "markdown",
   "metadata": {},
   "source": [
    "# Iterating in pandas: using apply() method"
   ]
  },
  {
   "cell_type": "code",
   "execution_count": 1,
   "metadata": {},
   "outputs": [
    {
     "name": "stdout",
     "output_type": "stream",
     "text": [
      "Given Dataframe :\n",
      "         Name  Age    Stream  Percentage\n",
      "0      Ankit   21      Math          88\n",
      "1       Amit   19  Commerce          92\n",
      "2  Aishwarya   20      Arts          95\n",
      "3   Priyanka   18   Biology          70\n"
     ]
    }
   ],
   "source": [
    "# import pandas package as pd\n",
    "import pandas as pd\n",
    "  \n",
    "# Define a dictionary containing students data\n",
    "data = {'Name': ['Ankit', 'Amit', 'Aishwarya', 'Priyanka'],\n",
    "                'Age': [21, 19, 20, 18],\n",
    "                'Stream': ['Math', 'Commerce', 'Arts', 'Biology'],\n",
    "                'Percentage': [88, 92, 95, 70]}\n",
    "  \n",
    "# Convert the dictionary into DataFrame\n",
    "df = pd.DataFrame(data, columns = ['Name', 'Age', 'Stream', 'Percentage'])\n",
    "  \n",
    "print(\"Given Dataframe :\\n\", df)\n",
    "  \n"
   ]
  },
  {
   "cell_type": "code",
   "execution_count": 2,
   "metadata": {},
   "outputs": [
    {
     "name": "stdout",
     "output_type": "stream",
     "text": [
      "\n",
      "Iterating over rows using apply function :\n",
      "\n",
      "0        Ankit 88\n",
      "1         Amit 92\n",
      "2    Aishwarya 95\n",
      "3     Priyanka 70\n",
      "dtype: object\n"
     ]
    }
   ],
   "source": [
    "print(\"\\nIterating over rows using apply function :\\n\")\n",
    "  \n",
    "# iterate through each row and concatenate\n",
    "# 'Name' and 'Percentage' column respectively.\n",
    "print(df.apply(lambda row: row[\"Name\"] + \" \" + str(row[\"Percentage\"]), axis = 1))"
   ]
  },
  {
   "cell_type": "code",
   "execution_count": null,
   "metadata": {},
   "outputs": [],
   "source": []
  }
 ],
 "metadata": {
  "kernelspec": {
   "display_name": "Python 3",
   "language": "python",
   "name": "python3"
  },
  "language_info": {
   "codemirror_mode": {
    "name": "ipython",
    "version": 3
   },
   "file_extension": ".py",
   "mimetype": "text/x-python",
   "name": "python",
   "nbconvert_exporter": "python",
   "pygments_lexer": "ipython3",
   "version": "3.7.7"
  }
 },
 "nbformat": 4,
 "nbformat_minor": 4
}
