{
 "cells": [
  {
   "cell_type": "markdown",
   "metadata": {},
   "source": [
    "# Numpy Tutorial\n",
    "\n",
    "## Requirements :\n",
    "\n",
    "### Python 3.x\n",
    "### numpy 1.x\n",
    "\n",
    "#####  Numpy stands for \"Numerical Python\".\n",
    "#####  It is a python extension module and not a programming language.\n",
    "#####  It provides fast and efficient operations on arrays of homogeneous data."
   ]
  },
  {
   "cell_type": "markdown",
   "metadata": {},
   "source": [
    "# 1. Getting started\n",
    "Before using numpy into our system we need to install the Numpy package into our system. This can be easilly done using the following command in your terminal, pip install numpy\n",
    "\n",
    "or can also be downloaded directly from the official repository, git clone https://github.com/numpy/numpy.git numpy\n",
    "\n",
    "To check if it has been correctly installed or not type the following command in your python prompt, import numpy\n",
    "\n",
    "If the module is correctly installed, the above command should execute without any errors. Usually in practice the numpy package is imported as following,\n",
    "\n",
    "import numpy as np\n",
    "\n",
    "This way all the attributes, functions of the numpy package can be accessed directly using the keyword \"np\"."
   ]
  },
  {
   "cell_type": "markdown",
   "metadata": {},
   "source": [
    "# Why Use NumPy?\n",
    "In Python we have lists that serve the purpose of arrays, but they are slow to process.\n",
    "\n",
    "NumPy aims to provide an array object that is up to 50x faster than traditional Python lists.\n",
    "\n",
    "The array object in NumPy is called ndarray, it provides a lot of supporting functions that make working with ndarray very easy.\n",
    "\n",
    "Arrays are very frequently used in data science, where speed and resources are very important.\n",
    "\n"
   ]
  },
  {
   "cell_type": "markdown",
   "metadata": {},
   "source": [
    "# Why is NumPy Faster Than Lists?\n",
    "NumPy arrays are stored at one continuous place in memory unlike lists, so processes can access and manipulate them very efficiently.\n",
    "\n",
    "This behavior is called locality of reference in computer science.\n",
    "\n",
    "This is the main reason why NumPy is faster than lists. Also it is optimized to work with latest CPU architectures.\n",
    "\n"
   ]
  },
  {
   "cell_type": "code",
   "execution_count": null,
   "metadata": {},
   "outputs": [],
   "source": []
  }
 ],
 "metadata": {
  "kernelspec": {
   "display_name": "Python 3",
   "language": "python",
   "name": "python3"
  },
  "language_info": {
   "codemirror_mode": {
    "name": "ipython",
    "version": 3
   },
   "file_extension": ".py",
   "mimetype": "text/x-python",
   "name": "python",
   "nbconvert_exporter": "python",
   "pygments_lexer": "ipython3",
   "version": "3.7.7"
  }
 },
 "nbformat": 4,
 "nbformat_minor": 4
}
