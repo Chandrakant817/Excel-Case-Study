{
 "cells": [
  {
   "cell_type": "markdown",
   "metadata": {},
   "source": [
    "# Reindexing in Pandas Dataframe"
   ]
  },
  {
   "cell_type": "markdown",
   "metadata": {},
   "source": [
    "### Reindexing in Pandas can be used to change the index of rows and columns of a DataFrame. Indexes can be used with reference to many index DataStructure associated with several pandas series or pandas DataFrame. Let’s see how can we Reindex the columns and rows in Pandas DataFrame. \n",
    "\n"
   ]
  },
  {
   "cell_type": "markdown",
   "metadata": {},
   "source": [
    "## Reindexing the Rows\n",
    "### One can reindex a single row or multiple rows by using reindex() method. Default values in the new index that are not present in the dataframe are assigned NaN.\n",
    "\n"
   ]
  },
  {
   "cell_type": "code",
   "execution_count": 2,
   "metadata": {},
   "outputs": [
    {
     "name": "stdout",
     "output_type": "stream",
     "text": [
      "          a         b         c         d         e\n",
      "A  0.505716  0.397105  0.469275  0.083326  0.650647\n",
      "B  0.436079  0.893754  0.910589  0.135282  0.757003\n",
      "C  0.394764  0.273194  0.763973  0.688658  0.207018\n",
      "D  0.342953  0.978627  0.812745  0.985562  0.080936\n",
      "E  0.576259  0.078302  0.420556  0.855123  0.298389\n",
      "\n",
      "\n",
      "Dataframe after reindexing rows: \n",
      "           a         b         c         d         e\n",
      "B  0.436079  0.893754  0.910589  0.135282  0.757003\n",
      "D  0.342953  0.978627  0.812745  0.985562  0.080936\n",
      "A  0.505716  0.397105  0.469275  0.083326  0.650647\n",
      "C  0.394764  0.273194  0.763973  0.688658  0.207018\n",
      "E  0.576259  0.078302  0.420556  0.855123  0.298389\n"
     ]
    }
   ],
   "source": [
    "# import numpy and pandas module\n",
    "import pandas as pd\n",
    "import numpy as np\n",
    "\n",
    "column=['a','b','c','d','e']\n",
    "index=['A','B','C','D','E']\n",
    "\n",
    "# create a dataframe of random values of array\n",
    "df1 = pd.DataFrame(np.random.rand(5,5),columns=column, index=index)\n",
    "\n",
    "print(df1)\n",
    "\n",
    "print('\\n\\nDataframe after reindexing rows: \\n',\n",
    "df1.reindex(['B', 'D', 'A', 'C', 'E']))\n"
   ]
  },
  {
   "cell_type": "code",
   "execution_count": 5,
   "metadata": {},
   "outputs": [
    {
     "name": "stdout",
     "output_type": "stream",
     "text": [
      "          a         b         c         d         e\n",
      "U       NaN       NaN       NaN       NaN       NaN\n",
      "A  0.505716  0.397105  0.469275  0.083326  0.650647\n",
      "B  0.436079  0.893754  0.910589  0.135282  0.757003\n",
      "C  0.394764  0.273194  0.763973  0.688658  0.207018\n",
      "Z       NaN       NaN       NaN       NaN       NaN\n"
     ]
    }
   ],
   "source": [
    "new_index =['U', 'A', 'B', 'C', 'Z']\n",
    " \n",
    "print(df1.reindex(new_index))"
   ]
  },
  {
   "cell_type": "markdown",
   "metadata": {},
   "source": [
    "## Reindexing the columns using axis keyword\n",
    "### One can reindex a single column or multiple columns by using reindex() method and by specifying the axis we want to reindex. Default values in the new index that are not present in the dataframe are assigned NaN.\n",
    "\n"
   ]
  },
  {
   "cell_type": "code",
   "execution_count": 6,
   "metadata": {},
   "outputs": [
    {
     "name": "stdout",
     "output_type": "stream",
     "text": [
      "          e         a         b         c         d\n",
      "A  0.650647  0.505716  0.397105  0.469275  0.083326\n",
      "B  0.757003  0.436079  0.893754  0.910589  0.135282\n",
      "C  0.207018  0.394764  0.273194  0.763973  0.688658\n",
      "D  0.080936  0.342953  0.978627  0.812745  0.985562\n",
      "E  0.298389  0.576259  0.078302  0.420556  0.855123\n"
     ]
    }
   ],
   "source": [
    "column=['e','a','b','c','d']\n",
    "  \n",
    "# create the new index for columns\n",
    "print(df1.reindex(column, axis='columns'))"
   ]
  },
  {
   "cell_type": "code",
   "execution_count": 7,
   "metadata": {},
   "outputs": [
    {
     "name": "stdout",
     "output_type": "stream",
     "text": [
      "          a         b         c   g   h\n",
      "A  0.505716  0.397105  0.469275 NaN NaN\n",
      "B  0.436079  0.893754  0.910589 NaN NaN\n",
      "C  0.394764  0.273194  0.763973 NaN NaN\n",
      "D  0.342953  0.978627  0.812745 NaN NaN\n",
      "E  0.576259  0.078302  0.420556 NaN NaN\n"
     ]
    }
   ],
   "source": [
    "column =['a', 'b', 'c', 'g', 'h']\n",
    " \n",
    "# create the new index for columns\n",
    "print(df1.reindex(column, axis ='columns'))"
   ]
  },
  {
   "cell_type": "code",
   "execution_count": null,
   "metadata": {},
   "outputs": [],
   "source": []
  }
 ],
 "metadata": {
  "kernelspec": {
   "display_name": "Python 3",
   "language": "python",
   "name": "python3"
  },
  "language_info": {
   "codemirror_mode": {
    "name": "ipython",
    "version": 3
   },
   "file_extension": ".py",
   "mimetype": "text/x-python",
   "name": "python",
   "nbconvert_exporter": "python",
   "pygments_lexer": "ipython3",
   "version": "3.7.7"
  }
 },
 "nbformat": 4,
 "nbformat_minor": 4
}
