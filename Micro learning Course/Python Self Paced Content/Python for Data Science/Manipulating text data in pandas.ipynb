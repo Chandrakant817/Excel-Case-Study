{
 "cells": [
  {
   "cell_type": "markdown",
   "metadata": {},
   "source": [
    "# String manipulations in Pandas DataFrame\n",
    "\n",
    "### String manipulation is the process of changing, parsing, splicing, pasting, or analyzing strings. As we know that sometimes, data in the string is not suitable for manipulating the analysis or get a description of the data. But Python is known for its ability to manipulate strings. So, by extending it here we will get to know how Pandas provides us the ways to manipulate to modify and process string data-frame using some builtin functions. Pandas library have some of the builtin functions which is often used to String Data-Frame Manipulations"
   ]
  },
  {
   "cell_type": "code",
   "execution_count": 5,
   "metadata": {},
   "outputs": [
    {
     "name": "stdout",
     "output_type": "stream",
     "text": [
      "0      Gulshan kumar\n",
      "1    Shashank Sharma\n",
      "2        Bablu Verma\n",
      "3       Abhishek Lal\n",
      "4              Anand\n",
      "5                NaN\n",
      "6             Pratap\n",
      "dtype: object\n"
     ]
    }
   ],
   "source": [
    "# Importing the necessary libraries\n",
    "import pandas as pd\n",
    "import numpy as np\n",
    "  \n",
    "# df stands for dataframe\n",
    "df = pd.Series(['Gulshan kumar', 'Shashank Sharma', 'Bablu Verma',\n",
    "                'Abhishek Lal', 'Anand', np.nan, 'Pratap'])\n",
    "  \n",
    "print(df)"
   ]
  },
  {
   "cell_type": "markdown",
   "metadata": {},
   "source": [
    "## Let’s have a look at various methods provided by this library for string manipulations.\n",
    "\n",
    "### lower(): Converts all uppercase characters in strings in the DataFrame to lower case and returns the lowercase strings in the result.\n"
   ]
  },
  {
   "cell_type": "code",
   "execution_count": 6,
   "metadata": {},
   "outputs": [
    {
     "name": "stdout",
     "output_type": "stream",
     "text": [
      "0      gulshan kumar\n",
      "1    shashank sharma\n",
      "2        bablu verma\n",
      "3       abhishek lal\n",
      "4              anand\n",
      "5                NaN\n",
      "6             pratap\n",
      "dtype: object\n"
     ]
    }
   ],
   "source": [
    "print(df.str.lower())\n"
   ]
  },
  {
   "cell_type": "markdown",
   "metadata": {},
   "source": [
    "### upper(): Converts all lowercase characters in strings in the DataFrame to upper case and returns the uppercase strings in result.\n"
   ]
  },
  {
   "cell_type": "code",
   "execution_count": 7,
   "metadata": {},
   "outputs": [
    {
     "name": "stdout",
     "output_type": "stream",
     "text": [
      "0      GULSHAN KUMAR\n",
      "1    SHASHANK SHARMA\n",
      "2        BABLU VERMA\n",
      "3       ABHISHEK LAL\n",
      "4              ANAND\n",
      "5                NaN\n",
      "6             PRATAP\n",
      "dtype: object\n"
     ]
    }
   ],
   "source": [
    "print(df.str.upper())\n"
   ]
  },
  {
   "cell_type": "markdown",
   "metadata": {},
   "source": [
    "### strip(): If there are spaces at the beginning or end of a string, we should trim the strings to eliminate spaces using strip() or remove the extra spaces contained by a string in DataFrame.\n"
   ]
  },
  {
   "cell_type": "code",
   "execution_count": 8,
   "metadata": {},
   "outputs": [
    {
     "name": "stdout",
     "output_type": "stream",
     "text": [
      "0      Gulshan kumar\n",
      "1    Shashank Sharma\n",
      "2        Bablu Verma\n",
      "3       Abhishek Lal\n",
      "4              Anand\n",
      "5                NaN\n",
      "6             Pratap\n",
      "dtype: object\n"
     ]
    }
   ],
   "source": [
    "print(df.str.strip())\n"
   ]
  },
  {
   "cell_type": "markdown",
   "metadata": {},
   "source": [
    "### split(‘ ‘): Splits each string with the given pattern. Strings are split and the new elements after the performed split operation, are stored in a list.\n"
   ]
  },
  {
   "cell_type": "code",
   "execution_count": 9,
   "metadata": {},
   "outputs": [
    {
     "name": "stdout",
     "output_type": "stream",
     "text": [
      "0      [Gulshan, kumar]\n",
      "1    [Shashank, Sharma]\n",
      "2        [Bablu, Verma]\n",
      "3       [Abhishek, Lal]\n",
      "4               [Anand]\n",
      "5                   NaN\n",
      "6              [Pratap]\n",
      "dtype: object\n"
     ]
    }
   ],
   "source": [
    "print(df.str.split(' '))\n"
   ]
  },
  {
   "cell_type": "markdown",
   "metadata": {},
   "source": [
    "### len(): With the help of len() we can compute the length of each string in DataFrame & if there is empty data in DataFrame, it returns NaN.\n"
   ]
  },
  {
   "cell_type": "code",
   "execution_count": 10,
   "metadata": {},
   "outputs": [
    {
     "name": "stdout",
     "output_type": "stream",
     "text": [
      "0    13.0\n",
      "1    15.0\n",
      "2    11.0\n",
      "3    12.0\n",
      "4     5.0\n",
      "5     NaN\n",
      "6     6.0\n",
      "dtype: float64\n"
     ]
    }
   ],
   "source": [
    "print(df.str.len())\n"
   ]
  },
  {
   "cell_type": "markdown",
   "metadata": {},
   "source": [
    "### startswith(pattern): It returns true if the element or string in the DataFrame Index starts with the pattern.\n"
   ]
  },
  {
   "cell_type": "code",
   "execution_count": 11,
   "metadata": {},
   "outputs": [
    {
     "name": "stdout",
     "output_type": "stream",
     "text": [
      "0     True\n",
      "1    False\n",
      "2    False\n",
      "3    False\n",
      "4    False\n",
      "5      NaN\n",
      "6    False\n",
      "dtype: object\n"
     ]
    }
   ],
   "source": [
    "print(df.str.startswith('G'))\n"
   ]
  },
  {
   "cell_type": "markdown",
   "metadata": {},
   "source": [
    "### endswith(pattern): It returns true if the element or string in the DataFrame Index ends with the pattern.\n"
   ]
  },
  {
   "cell_type": "code",
   "execution_count": 13,
   "metadata": {},
   "outputs": [
    {
     "name": "stdout",
     "output_type": "stream",
     "text": [
      "0     True\n",
      "1    False\n",
      "2    False\n",
      "3    False\n",
      "4    False\n",
      "5      NaN\n",
      "6    False\n",
      "dtype: object\n"
     ]
    }
   ],
   "source": [
    "print(df.str.endswith('r'))\n"
   ]
  },
  {
   "cell_type": "markdown",
   "metadata": {},
   "source": [
    "### replace(a,b): It replaces the value a with the value b like below in example ‘Gulshan’ is being replaced by ‘Chnitu’.\n"
   ]
  },
  {
   "cell_type": "code",
   "execution_count": 15,
   "metadata": {},
   "outputs": [
    {
     "name": "stdout",
     "output_type": "stream",
     "text": [
      "0       Chintu kumar\n",
      "1    Shashank Sharma\n",
      "2        Bablu Verma\n",
      "3       Abhishek Lal\n",
      "4              Anand\n",
      "5                NaN\n",
      "6             Pratap\n",
      "dtype: object\n"
     ]
    }
   ],
   "source": [
    "print(df.str.replace('Gulshan', 'Chintu'))\n"
   ]
  },
  {
   "cell_type": "markdown",
   "metadata": {},
   "source": [
    "### find(pattern): It returns the first position of the first occurrence of the pattern. We can see in the example below, that it returns the index value of appearance of character ‘n’ in each string throughout the DataFrame.\n"
   ]
  },
  {
   "cell_type": "code",
   "execution_count": 16,
   "metadata": {},
   "outputs": [
    {
     "name": "stdout",
     "output_type": "stream",
     "text": [
      "0    6.0\n",
      "1    6.0\n",
      "2   -1.0\n",
      "3   -1.0\n",
      "4    1.0\n",
      "5    NaN\n",
      "6   -1.0\n",
      "dtype: float64\n"
     ]
    }
   ],
   "source": [
    "print(df.str.find('n'))\n"
   ]
  },
  {
   "cell_type": "code",
   "execution_count": null,
   "metadata": {},
   "outputs": [],
   "source": []
  }
 ],
 "metadata": {
  "kernelspec": {
   "display_name": "Python 3",
   "language": "python",
   "name": "python3"
  },
  "language_info": {
   "codemirror_mode": {
    "name": "ipython",
    "version": 3
   },
   "file_extension": ".py",
   "mimetype": "text/x-python",
   "name": "python",
   "nbconvert_exporter": "python",
   "pygments_lexer": "ipython3",
   "version": "3.7.7"
  }
 },
 "nbformat": 4,
 "nbformat_minor": 4
}
