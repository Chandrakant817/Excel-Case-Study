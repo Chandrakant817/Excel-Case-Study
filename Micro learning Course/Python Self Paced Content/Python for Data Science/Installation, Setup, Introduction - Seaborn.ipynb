{
 "cells": [
  {
   "cell_type": "markdown",
   "metadata": {},
   "source": [
    "# Installation of Seaborn\n",
    "\n",
    "### Dependencies for installation of Seaborn\n",
    "#### Python 2.7 or 3.4+\n",
    "#### numpy\n",
    "#### scipy\n",
    "#### pandas\n",
    "#### matplotlib\n",
    "\n",
    "### Using Pip Installer\n",
    "#### Inorder to install the latest version of Seaborn through pip"
   ]
  },
  {
   "cell_type": "markdown",
   "metadata": {},
   "source": [
    "!pip install seaborn\n"
   ]
  },
  {
   "cell_type": "markdown",
   "metadata": {},
   "source": [
    "### Installation through Anaconda¶\n"
   ]
  },
  {
   "cell_type": "code",
   "execution_count": null,
   "metadata": {},
   "outputs": [],
   "source": [
    "#!conda install seaborn\n"
   ]
  },
  {
   "cell_type": "code",
   "execution_count": null,
   "metadata": {},
   "outputs": [],
   "source": [
    "Some of the important features of Seaborn library are:-\n",
    "\n",
    "* Built in themes for styling matplotlib graphics\n",
    "* Visualizing univariate and bivariate data\n",
    "* Fitting in and visualizing linear regression models\n",
    "* Plotting statistical time series data\n",
    "* It works well with NumPy and Pandas data structures\n"
   ]
  },
  {
   "cell_type": "code",
   "execution_count": null,
   "metadata": {},
   "outputs": [],
   "source": []
  }
 ],
 "metadata": {
  "kernelspec": {
   "display_name": "Python 3",
   "language": "python",
   "name": "python3"
  },
  "language_info": {
   "codemirror_mode": {
    "name": "ipython",
    "version": 3
   },
   "file_extension": ".py",
   "mimetype": "text/x-python",
   "name": "python",
   "nbconvert_exporter": "python",
   "pygments_lexer": "ipython3",
   "version": "3.7.7"
  }
 },
 "nbformat": 4,
 "nbformat_minor": 4
}
