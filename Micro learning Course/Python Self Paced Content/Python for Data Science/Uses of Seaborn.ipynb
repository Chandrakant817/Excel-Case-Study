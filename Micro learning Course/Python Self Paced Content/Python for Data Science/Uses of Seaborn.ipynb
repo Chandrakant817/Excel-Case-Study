{
 "cells": [
  {
   "cell_type": "markdown",
   "metadata": {},
   "source": [
    "# Uses of Seaborn"
   ]
  },
  {
   "cell_type": "markdown",
   "metadata": {},
   "source": [
    "### Seaborn is a data visualization library built on top of matplotlib and closely integrated with pandas data structures in Python. Visualization is the central part of Seaborn which helps in exploration and understanding of data.\n",
    "\n",
    "\n",
    "#### Seaborn offers the following functionalities:\n",
    "#### Dataset oriented API to determine the relationship between variables.\n",
    "#### Automatic estimation and plotting of linear regression plots.\n",
    "#### It supports high-level abstractions for multi-plot grids.\n",
    "#### Visualizing univariate and bivariate distribution."
   ]
  },
  {
   "cell_type": "code",
   "execution_count": 1,
   "metadata": {},
   "outputs": [],
   "source": [
    "#To initialize the Seaborn library, the command used is:\n",
    "\n",
    "import seaborn as sns"
   ]
  },
  {
   "cell_type": "markdown",
   "metadata": {},
   "source": [
    "## Using Seaborn we can plot wide varieties of plots like:\n",
    "### Distribution Plots\n",
    "### Pie Chart & Bar Chart\n",
    "### Scatter Plots\n",
    "### Pair Plots\n",
    "### Heat maps"
   ]
  },
  {
   "cell_type": "code",
   "execution_count": null,
   "metadata": {},
   "outputs": [],
   "source": []
  }
 ],
 "metadata": {
  "kernelspec": {
   "display_name": "Python 3",
   "language": "python",
   "name": "python3"
  },
  "language_info": {
   "codemirror_mode": {
    "name": "ipython",
    "version": 3
   },
   "file_extension": ".py",
   "mimetype": "text/x-python",
   "name": "python",
   "nbconvert_exporter": "python",
   "pygments_lexer": "ipython3",
   "version": "3.7.7"
  }
 },
 "nbformat": 4,
 "nbformat_minor": 4
}
