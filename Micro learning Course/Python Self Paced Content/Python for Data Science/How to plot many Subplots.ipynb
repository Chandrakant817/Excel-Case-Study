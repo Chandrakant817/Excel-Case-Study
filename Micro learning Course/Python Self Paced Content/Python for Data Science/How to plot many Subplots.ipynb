{
 "cells": [
  {
   "cell_type": "markdown",
   "metadata": {},
   "source": [
    "# Drawing Subplots\n",
    "### When you have multiple plots it is necessary to organize them into panels in the same figure, such as when illustrating different aspects of the same dataset.Matplotlib provides a few ways to create figures with multiple subplots."
   ]
  },
  {
   "cell_type": "markdown",
   "metadata": {},
   "source": [
    "# Initiating subplots as axes with plt.subplot()\n",
    "#### To initiate the axes plot instances that actually from each plot,we use plt.subplot(). It takes 3 parameters: rows, columns and plot number."
   ]
  },
  {
   "cell_type": "code",
   "execution_count": 2,
   "metadata": {},
   "outputs": [],
   "source": [
    "# Importing libraries\n",
    "import numpy as np\n",
    "import matplotlib.pyplot as plt\n",
    "import matplotlib.colors\n",
    "import seaborn as sns\n",
    "# To show a line\n",
    "%matplotlib inline"
   ]
  },
  {
   "cell_type": "code",
   "execution_count": 3,
   "metadata": {},
   "outputs": [
    {
     "name": "stdout",
     "output_type": "stream",
     "text": [
      "<class 'matplotlib.axes._subplots.AxesSubplot'>\n"
     ]
    },
    {
     "data": {
      "image/png": "[encoded data removed]",
      "text/plain": [
       "<Figure size 432x288 with 6 Axes>"
      ]
     },
     "metadata": {
      "needs_background": "light"
     },
     "output_type": "display_data"
    }
   ],
   "source": [
    "# Initiates a figure area for plotting\n",
    "fig = plt.figure()\n",
    "\n",
    "# Initiates six subplot axes\n",
    "ax1 = plt.subplot(231)\n",
    "ax2 = plt.subplot(232)\n",
    "ax3 = plt.subplot(233)\n",
    "ax4 = plt.subplot(234)\n",
    "ax5 = plt.subplot(235)\n",
    "ax6 = plt.subplot(236)\n",
    "\n",
    "# Print the type of ax1\n",
    "print(type(ax1))\n",
    "\n",
    "# Label each subplot with corresponding identities\n",
    "ax1.text(0.3,0.5,'231',fontsize=18)\n",
    "ax2.text(0.3,0.5,'232',fontsize=18)\n",
    "ax3.text(0.3,0.5,'233',fontsize=18)\n",
    "ax4.text(0.3,0.5,'234',fontsize=18)\n",
    "ax5.text(0.3,0.5,'235',fontsize=18)\n",
    "ax6.text(0.3,0.5,'236',fontsize=18)\n",
    "\n",
    "plt.show()"
   ]
  },
  {
   "cell_type": "code",
   "execution_count": null,
   "metadata": {},
   "outputs": [],
   "source": []
  }
 ],
 "metadata": {
  "kernelspec": {
   "display_name": "Python 3",
   "language": "python",
   "name": "python3"
  },
  "language_info": {
   "codemirror_mode": {
    "name": "ipython",
    "version": 3
   },
   "file_extension": ".py",
   "mimetype": "text/x-python",
   "name": "python",
   "nbconvert_exporter": "python",
   "pygments_lexer": "ipython3",
   "version": "3.7.7"
  }
 },
 "nbformat": 4,
 "nbformat_minor": 4
}
