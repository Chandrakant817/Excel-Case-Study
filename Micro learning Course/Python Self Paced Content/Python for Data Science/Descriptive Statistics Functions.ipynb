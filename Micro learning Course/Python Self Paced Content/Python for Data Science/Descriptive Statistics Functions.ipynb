{
 "cells": [
  {
   "cell_type": "markdown",
   "metadata": {},
   "source": [
    "# Descriptive Statistics Functions"
   ]
  },
  {
   "cell_type": "markdown",
   "metadata": {},
   "source": [
    "### describe() method in Python Pandas is used to compute descriptive statistical data like count, unique values, mean, standard deviation, minimum and maximum value and many more."
   ]
  },
  {
   "cell_type": "code",
   "execution_count": 1,
   "metadata": {},
   "outputs": [
    {
     "name": "stdout",
     "output_type": "stream",
     "text": [
      "Original DataFrame:\n",
      "   Product  Price  Year\n",
      "0  Mobile  20000  2014\n",
      "1      AC  28000  2015\n",
      "2  Mobile  22000  2016\n",
      "3    Sofa  19000  2017\n",
      "4  Laptop  45000  2018\n",
      "\n",
      "Descriptive statistics of Price:\n",
      "\n",
      "count        5.000000\n",
      "mean     26800.000000\n",
      "std      10756.393448\n",
      "min      19000.000000\n",
      "25%      20000.000000\n",
      "50%      22000.000000\n",
      "75%      28000.000000\n",
      "max      45000.000000\n",
      "Name: Price, dtype: float64\n"
     ]
    }
   ],
   "source": [
    "# Import package\n",
    "from pandas import DataFrame\n",
    "  \n",
    "# Create DataFrame\n",
    "cart = {'Product': ['Mobile', 'AC', 'Mobile', 'Sofa', 'Laptop'],\n",
    "        'Price': [20000, 28000, 22000, 19000, 45000],\n",
    "         'Year': [2014, 2015, 2016, 2017, 2018]\n",
    "        }\n",
    "df = DataFrame(cart, columns = ['Product', 'Price', 'Year'])\n",
    "  \n",
    "# Original DataFrame\n",
    "print(\"Original DataFrame:\\n\", df)\n",
    "  \n",
    "# Describing descriptive statistics of Price\n",
    "print(\"\\nDescriptive statistics of Price:\\n\")\n",
    "stats = df['Price'].describe()\n",
    "print(stats)"
   ]
  },
  {
   "cell_type": "code",
   "execution_count": 2,
   "metadata": {},
   "outputs": [
    {
     "name": "stdout",
     "output_type": "stream",
     "text": [
      "count       5.000000\n",
      "mean     2016.000000\n",
      "std         1.581139\n",
      "min      2014.000000\n",
      "25%      2015.000000\n",
      "50%      2016.000000\n",
      "75%      2017.000000\n",
      "max      2018.000000\n",
      "Name: Year, dtype: float64\n"
     ]
    }
   ],
   "source": [
    "stats = df['Year'].describe()\n",
    "print(stats)"
   ]
  },
  {
   "cell_type": "code",
   "execution_count": 3,
   "metadata": {},
   "outputs": [
    {
     "name": "stdout",
     "output_type": "stream",
     "text": [
      "       Product         Price         Year\n",
      "count        5      5.000000     5.000000\n",
      "unique       4           NaN          NaN\n",
      "top     Mobile           NaN          NaN\n",
      "freq         2           NaN          NaN\n",
      "mean       NaN  26800.000000  2016.000000\n",
      "std        NaN  10756.393448     1.581139\n",
      "min        NaN  19000.000000  2014.000000\n",
      "25%        NaN  20000.000000  2015.000000\n",
      "50%        NaN  22000.000000  2016.000000\n",
      "75%        NaN  28000.000000  2017.000000\n",
      "max        NaN  45000.000000  2018.000000\n"
     ]
    }
   ],
   "source": [
    "stats = df.describe(include = 'all')\n",
    "print(stats)"
   ]
  },
  {
   "cell_type": "code",
   "execution_count": 4,
   "metadata": {},
   "outputs": [
    {
     "name": "stdout",
     "output_type": "stream",
     "text": [
      "\n",
      "Mean of Price:\n",
      "\n",
      "26800.0\n",
      "\n",
      "Maximum value of Price:\n",
      "\n",
      "26800.0\n",
      "\n",
      "Standard deviation of Price:\n",
      "\n",
      "10756.393447619885\n"
     ]
    }
   ],
   "source": [
    "print(\"\\nMean of Price:\\n\")\n",
    "m = df['Price'].mean()\n",
    "print(m)\n",
    "  \n",
    "# Print maximum value of Price\n",
    "print(\"\\nMaximum value of Price:\\n\")\n",
    "mx = df['Price'].max()\n",
    "print(m)\n",
    "  \n",
    "# Print standard deviation of Price\n",
    "print(\"\\nStandard deviation of Price:\\n\")\n",
    "sd = df['Price'].std()\n",
    "print(sd)"
   ]
  },
  {
   "cell_type": "code",
   "execution_count": null,
   "metadata": {},
   "outputs": [],
   "source": []
  }
 ],
 "metadata": {
  "kernelspec": {
   "display_name": "Python 3",
   "language": "python",
   "name": "python3"
  },
  "language_info": {
   "codemirror_mode": {
    "name": "ipython",
    "version": 3
   },
   "file_extension": ".py",
   "mimetype": "text/x-python",
   "name": "python",
   "nbconvert_exporter": "python",
   "pygments_lexer": "ipython3",
   "version": "3.7.7"
  }
 },
 "nbformat": 4,
 "nbformat_minor": 4
}
