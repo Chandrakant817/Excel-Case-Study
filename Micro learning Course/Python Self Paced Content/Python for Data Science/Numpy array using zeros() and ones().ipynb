{
 "cells": [
  {
   "cell_type": "markdown",
   "metadata": {},
   "source": [
    "# Numpy array using zeros() and ones()"
   ]
  },
  {
   "cell_type": "markdown",
   "metadata": {},
   "source": [
    "### In this video we will discuss how to create a Numpy array of different shapes and initialized with 0 & 1.\n",
    "\n"
   ]
  },
  {
   "cell_type": "markdown",
   "metadata": {},
   "source": [
    "# numpy.zeros()\n",
    "\n",
    "##### Python’s Numpy module provides a function to create a numpy array of given shape & type and all values in it initialized with 0’s\n",
    "\n"
   ]
  },
  {
   "cell_type": "markdown",
   "metadata": {},
   "source": [
    "# numpy.zeros(shape, dtype=float, order='C')\n",
    "\n",
    "#####  Arguments:\n",
    "\n",
    "##### shape : Shape of the numpy array. Single int or sequence of int.\n",
    "##### dtype : (Optional) Data type of elements. Default is float64.\n",
    "##### order : (Optional) Order in which data is stored in multi-dimension array i.e. in row major(‘F’) or column major (‘C’). Default is ‘C’.\n"
   ]
  },
  {
   "cell_type": "code",
   "execution_count": 5,
   "metadata": {},
   "outputs": [
    {
     "name": "stdout",
     "output_type": "stream",
     "text": [
      "Contents of the Numpy Array : \n",
      " [[0 0 0]\n",
      " [0 0 0]\n",
      " [0 0 0]]\n"
     ]
    }
   ],
   "source": [
    "import numpy as np \n",
    "\n",
    "#It will create a 2D numpy array of ints filled with zeros.\n",
    "\n",
    "arr = np.zeros((3, 3) , dtype=np.int64)\n",
    "print('Contents of the Numpy Array : \\n', arr)\n",
    "\n"
   ]
  },
  {
   "cell_type": "code",
   "execution_count": 8,
   "metadata": {},
   "outputs": [
    {
     "data": {
      "text/plain": [
       "(3, 4)"
      ]
     },
     "execution_count": 8,
     "metadata": {},
     "output_type": "execute_result"
    }
   ],
   "source": [
    "arr.shape"
   ]
  },
  {
   "cell_type": "markdown",
   "metadata": {},
   "source": [
    "# numpy.ones()\n",
    "\n",
    "#### Python’s Numpy module provides a function to create a numpy array of given shape & type and all values in it initialized with 1’s\n",
    "\n",
    "## numpy.ones(shape, dtype=float, order='C')\n",
    "##### Arguments:\n",
    "\n",
    "##### shape : Shape of the numpy array. Single int or sequence of int.\n",
    "##### dtype : (Optional) Data type of elements. Default is float64.\n",
    "##### order : (Optional) Order in which data is stored in multi-dimension array i.e. in row major(‘F’) or column major (‘C’). Default is ‘C’."
   ]
  },
  {
   "cell_type": "code",
   "execution_count": 7,
   "metadata": {},
   "outputs": [
    {
     "name": "stdout",
     "output_type": "stream",
     "text": [
      "Contents of the Numpy Array : \n",
      " [[1 1 1 1]\n",
      " [1 1 1 1]\n",
      " [1 1 1 1]]\n"
     ]
    }
   ],
   "source": [
    "# create a 2D numpy array with 3 rows &amp; 4 columns filled with 1's and int data type\n",
    "\n",
    "arr = np.ones((3, 4) , dtype=np.int64)\n",
    "\n",
    "print('Contents of the Numpy Array : \\n', arr)"
   ]
  },
  {
   "cell_type": "code",
   "execution_count": 9,
   "metadata": {},
   "outputs": [
    {
     "data": {
      "text/plain": [
       "numpy.ndarray"
      ]
     },
     "execution_count": 9,
     "metadata": {},
     "output_type": "execute_result"
    }
   ],
   "source": [
    "type(arr)"
   ]
  },
  {
   "cell_type": "code",
   "execution_count": 10,
   "metadata": {},
   "outputs": [
    {
     "data": {
      "text/plain": [
       "(3, 4)"
      ]
     },
     "execution_count": 10,
     "metadata": {},
     "output_type": "execute_result"
    }
   ],
   "source": [
    "arr.shape"
   ]
  },
  {
   "cell_type": "code",
   "execution_count": null,
   "metadata": {},
   "outputs": [],
   "source": []
  },
  {
   "cell_type": "code",
   "execution_count": null,
   "metadata": {},
   "outputs": [],
   "source": []
  }
 ],
 "metadata": {
  "kernelspec": {
   "display_name": "Python 3",
   "language": "python",
   "name": "python3"
  },
  "language_info": {
   "codemirror_mode": {
    "name": "ipython",
    "version": 3
   },
   "file_extension": ".py",
   "mimetype": "text/x-python",
   "name": "python",
   "nbconvert_exporter": "python",
   "pygments_lexer": "ipython3",
   "version": "3.7.7"
  }
 },
 "nbformat": 4,
 "nbformat_minor": 4
}
